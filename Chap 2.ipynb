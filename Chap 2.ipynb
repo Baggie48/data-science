{
    "cells": [
        {
            "cell_type": "markdown",
            "metadata": {
                "collapsed": true
            },
            "source": "# Chapter 2"
        },
        {
            "cell_type": "markdown",
            "metadata": {},
            "source": "This section contains an crash course on Python including how to set up virtual environments etc"
        },
        {
            "cell_type": "markdown",
            "metadata": {},
            "source": "### Virtual Environments"
        },
        {
            "cell_type": "markdown",
            "metadata": {},
            "source": "Virtual environments are the best way to avoid conflicts between libraries. In Anaconda a virtual environment can be set up using terminal. \n\neg Creating a python virtual environment with Anaconda can be done using the following\n\n   `conda create -n dsfs python=3.6` (-n is the name parameter to the conda create function)\n   \n   `source activate dsfs` will activate the environment"
        },
        {
            "cell_type": "markdown",
            "metadata": {},
            "source": "**Venv**"
        },
        {
            "cell_type": "markdown",
            "metadata": {},
            "source": "Python also has a built in module for creating virtual environments called venv.\n\nTo create a virtual environment using venv type:\n\n   `python3 -m venv venv_dsfs`\n   \n   `source venv_dsfs/bin/activate` will activate the environment\n   \nAn explanation of command line options for python can be found in the [python documentation](https://docs.python.org/3/using/cmdline.html)\n\nTo deactivate the virtual environment simply type `deactivate` into the terminal"
        },
        {
            "cell_type": "markdown",
            "metadata": {},
            "source": "**Virtualenv**\n\n`pip install virtualenv` #installs virtualenv to the global python environment\n\n`virtualenv <name of virtual environment>` #creates a virtual environment\n\nFollow the same steps for environment activation\n\n\n"
        },
        {
            "cell_type": "markdown",
            "metadata": {},
            "source": "### Whitespace Formatting"
        },
        {
            "cell_type": "markdown",
            "metadata": {},
            "source": "**NB** Python uses indentation rather than curly braces for blocks of code"
        },
        {
            "cell_type": "code",
            "execution_count": 1,
            "metadata": {},
            "outputs": [
                {
                    "name": "stdout",
                    "output_type": "stream",
                    "text": "1\n2\n1\n3\n2\n4\n3\n5\n4\n1\n2\n3\n1\n4\n2\n5\n3\n6\n4\n2\n3\n4\n1\n5\n2\n6\n3\n7\n4\n3\n4\n5\n1\n6\n2\n7\n3\n8\n4\n4\nFinished\n"
                }
            ],
            "source": "for i in range(1, 5):\n    print(i)\n    for j in range(1, 5):\n        print(i+j)\n        print(j)\n    print(i)\nprint(\"Finished\")"
        },
        {
            "cell_type": "markdown",
            "metadata": {},
            "source": "### Modules"
        },
        {
            "cell_type": "markdown",
            "metadata": {},
            "source": "Sometimes functionality needs to be imported to be used such as the regex module\n\nThis would be imported using\n`import re`\n\nTo use an alias you could use\n`import re as regex`\n\nThere are some standard conventions, for example matplotlib.pyplot is normally imported using \n`import matplotlib.pyplot as plt`"
        },
        {
            "cell_type": "markdown",
            "metadata": {},
            "source": "From here it is then possible to access methods using the alias eg `plt.show()`"
        },
        {
            "cell_type": "markdown",
            "metadata": {},
            "source": "If only some functions are needed you can import these directly as well. For example `from collections import defaultdict, Counter`"
        },
        {
            "cell_type": "markdown",
            "metadata": {},
            "source": "### Functions"
        },
        {
            "cell_type": "markdown",
            "metadata": {},
            "source": "Defined using **def** key word, doc strings can be added using triple quotes so that `help(<function>)` returns the docstring."
        },
        {
            "cell_type": "code",
            "execution_count": 2,
            "metadata": {},
            "outputs": [
                {
                    "data": {
                        "text/plain": "4"
                    },
                    "execution_count": 2,
                    "metadata": {},
                    "output_type": "execute_result"
                }
            ],
            "source": "#Example function to square x\n\ndef square(x):\n    \"\"\"Takes an input x and returns the input multiplied by itself and then returns the value\"\"\"\n    return x*x\nsquare(2)"
        },
        {
            "cell_type": "code",
            "execution_count": 11,
            "metadata": {},
            "outputs": [],
            "source": "def apply_to_one(f):\n    \"\"\"Calls function f with 1 as as its argument\"\"\"\n    return f(1) "
        },
        {
            "cell_type": "code",
            "execution_count": 10,
            "metadata": {},
            "outputs": [
                {
                    "data": {
                        "text/plain": "9"
                    },
                    "execution_count": 10,
                    "metadata": {},
                    "output_type": "execute_result"
                }
            ],
            "source": "my_square = square #This refers to the square function above\n\napply_to_one(square) #runs apply to one function with the square function as its arg, then passes 1 as the argument to the square function"
        },
        {
            "cell_type": "code",
            "execution_count": null,
            "metadata": {},
            "outputs": [],
            "source": ""
        }
    ],
    "metadata": {
        "kernelspec": {
            "display_name": "Python 3.6",
            "language": "python",
            "name": "python3"
        },
        "language_info": {
            "codemirror_mode": {
                "name": "ipython",
                "version": 3
            },
            "file_extension": ".py",
            "mimetype": "text/x-python",
            "name": "python",
            "nbconvert_exporter": "python",
            "pygments_lexer": "ipython3",
            "version": "3.6.9"
        }
    },
    "nbformat": 4,
    "nbformat_minor": 1
}